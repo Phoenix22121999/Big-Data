{
  "nbformat": 4,
  "nbformat_minor": 0,
  "metadata": {
    "colab": {
      "name": "Bank_MachineLearning_PySpark_51702075.ipynb",
      "provenance": [],
      "collapsed_sections": []
    },
    "kernelspec": {
      "display_name": "Python 3",
      "name": "python3"
    },
    "language_info": {
      "name": "python"
    }
  },
  "cells": [
    {
      "cell_type": "code",
      "metadata": {
        "colab": {
          "base_uri": "https://localhost:8080/"
        },
        "id": "enV-R81iqrbH",
        "outputId": "d4d2508a-2655-4d6f-fb0b-c00ec28c87e3"
      },
      "source": [
        "pip install pyspark"
      ],
      "execution_count": null,
      "outputs": [
        {
          "output_type": "stream",
          "text": [
            "Collecting pyspark\n",
            "\u001b[?25l  Downloading https://files.pythonhosted.org/packages/45/b0/9d6860891ab14a39d4bddf80ba26ce51c2f9dc4805e5c6978ac0472c120a/pyspark-3.1.1.tar.gz (212.3MB)\n",
            "\u001b[K     |████████████████████████████████| 212.3MB 69kB/s \n",
            "\u001b[?25hCollecting py4j==0.10.9\n",
            "\u001b[?25l  Downloading https://files.pythonhosted.org/packages/9e/b6/6a4fb90cd235dc8e265a6a2067f2a2c99f0d91787f06aca4bcf7c23f3f80/py4j-0.10.9-py2.py3-none-any.whl (198kB)\n",
            "\u001b[K     |████████████████████████████████| 204kB 39.8MB/s \n",
            "\u001b[?25hBuilding wheels for collected packages: pyspark\n",
            "  Building wheel for pyspark (setup.py) ... \u001b[?25l\u001b[?25hdone\n",
            "  Created wheel for pyspark: filename=pyspark-3.1.1-py2.py3-none-any.whl size=212767604 sha256=b04d4f9759476078f08878eedbdb8a0f2ad052a9daa790deb4ce346ff8924cec\n",
            "  Stored in directory: /root/.cache/pip/wheels/0b/90/c0/01de724414ef122bd05f056541fb6a0ecf47c7ca655f8b3c0f\n",
            "Successfully built pyspark\n",
            "Installing collected packages: py4j, pyspark\n",
            "Successfully installed py4j-0.10.9 pyspark-3.1.1\n"
          ],
          "name": "stdout"
        }
      ]
    },
    {
      "cell_type": "code",
      "metadata": {
        "id": "8cFwe1DLrT11"
      },
      "source": [
        ""
      ],
      "execution_count": null,
      "outputs": []
    },
    {
      "cell_type": "code",
      "metadata": {
        "colab": {
          "base_uri": "https://localhost:8080/"
        },
        "id": "R9qzXT5erdug",
        "outputId": "c0a06840-8de1-40cd-e417-7b15ecdbc362"
      },
      "source": [
        "from google.colab import drive\n",
        "drive.mount('/content/drive')"
      ],
      "execution_count": null,
      "outputs": [
        {
          "output_type": "stream",
          "text": [
            "Drive already mounted at /content/drive; to attempt to forcibly remount, call drive.mount(\"/content/drive\", force_remount=True).\n"
          ],
          "name": "stdout"
        }
      ]
    },
    {
      "cell_type": "code",
      "metadata": {
        "id": "xQxQyXs2q3OU"
      },
      "source": [
        "from pyspark.sql import SparkSession\n",
        "spark = SparkSession.builder.appName(\"Bank project\").getOrCreate()"
      ],
      "execution_count": null,
      "outputs": []
    },
    {
      "cell_type": "code",
      "metadata": {
        "id": "dlYcM7opq6OJ"
      },
      "source": [
        "df = spark.read.csv(\"/content/drive/MyDrive/Colab Notebooks/bank.csv\",header=True,inferSchema=True)\n",
        "df.printSchema()"
      ],
      "execution_count": null,
      "outputs": []
    },
    {
      "cell_type": "code",
      "metadata": {
        "id": "DWUc3F6ntlVZ"
      },
      "source": [
        "from pyspark.ml.feature import StringIndexer\n",
        "indexer = StringIndexer()\n",
        "indexer.setInputCol(\"job\").setOutputCol(\"job_index\")\n",
        "df1 = indexer.fit(df).transform(df)\n"
      ],
      "execution_count": null,
      "outputs": []
    },
    {
      "cell_type": "code",
      "metadata": {
        "id": "Gy3eqVuqvRRz"
      },
      "source": [
        "df1.toPandas()"
      ],
      "execution_count": null,
      "outputs": []
    },
    {
      "cell_type": "code",
      "metadata": {
        "id": "-v_mtFyxvNhr"
      },
      "source": [
        "indexer.setInputCol(\"marital\").setOutputCol(\"marital_index\")\n",
        "df1 = indexer.fit(df1).transform(df1)\n",
        "indexer.setInputCol(\"education\").setOutputCol(\"education_index\")\n",
        "df1 = indexer.fit(df1).transform(df1)\n",
        "indexer.setInputCol(\"default\").setOutputCol(\"default_index\")\n",
        "df1 = indexer.fit(df1).transform(df1)\n",
        "indexer.setInputCol(\"housing\").setOutputCol(\"housing_index\")\n",
        "df1 = indexer.fit(df1).transform(df1)\n",
        "indexer.setInputCol(\"loan\").setOutputCol(\"loan_index\")\n",
        "df1 = indexer.fit(df1).transform(df1)\n",
        "indexer.setInputCol(\"contact\").setOutputCol(\"contact_index\")\n",
        "df1 = indexer.fit(df1).transform(df1)\n",
        "indexer.setInputCol(\"month\").setOutputCol(\"month_index\")\n",
        "df1 = indexer.fit(df1).transform(df1)\n",
        "indexer.setInputCol(\"poutcome\").setOutputCol(\"poutcome_index\")\n",
        "df1 = indexer.fit(df1).transform(df1)\n",
        "indexer.setInputCol(\"deposit\").setOutputCol(\"label\")\n",
        "df1 = indexer.fit(df1).transform(df1)"
      ],
      "execution_count": null,
      "outputs": []
    },
    {
      "cell_type": "code",
      "metadata": {
        "id": "L_cch431DK-C"
      },
      "source": [
        ""
      ],
      "execution_count": null,
      "outputs": []
    },
    {
      "cell_type": "code",
      "metadata": {
        "id": "c-SGOmO9ubAi"
      },
      "source": [
        "df1.toPandas()"
      ],
      "execution_count": null,
      "outputs": []
    },
    {
      "cell_type": "code",
      "metadata": {
        "id": "B7-7kufvaq5z"
      },
      "source": [
        "feature_name=['age','balance','day','duration','campaign','pdays','previous','job_index','marital_index','education_index','default_index','housing_index','loan_index','contact_index',\t'month_index'\t,'poutcome_index']"
      ],
      "execution_count": null,
      "outputs": []
    },
    {
      "cell_type": "code",
      "metadata": {
        "id": "psL0ixN7bZVt"
      },
      "source": [
        "from pyspark.ml.feature import VectorAssembler\n",
        "assembler = VectorAssembler()\n",
        "assembler.setInputCols(feature_name).setOutputCol(\"features\")\n",
        "transformed_data = assembler.transform(df1)"
      ],
      "execution_count": null,
      "outputs": []
    },
    {
      "cell_type": "code",
      "metadata": {
        "id": "O86Uj5w6bhbA"
      },
      "source": [
        "transformed_data.toPandas()"
      ],
      "execution_count": null,
      "outputs": []
    },
    {
      "cell_type": "code",
      "metadata": {
        "id": "T1hWVyicbpGk"
      },
      "source": [
        "(training_data, test_data) = transformed_data.randomSplit([0.8,0.2])"
      ],
      "execution_count": null,
      "outputs": []
    },
    {
      "cell_type": "code",
      "metadata": {
        "id": "MWwpBXaZbq4r"
      },
      "source": [
        "from pyspark.ml.classification import LogisticRegression\n",
        "model = LogisticRegression(featuresCol = 'features',labelCol='label', maxIter=30,threshold= 0.5)\n"
      ],
      "execution_count": null,
      "outputs": []
    },
    {
      "cell_type": "code",
      "metadata": {
        "id": "_2ztZQ5WiEYQ"
      },
      "source": [
        "# from pyspark.ml.recommendation import ALS\n",
        "# als = ALS(maxIter=5, regParam=0.01,featuresCol = 'features',labelCol='label',\n",
        "#           coldStartStrategy=\"drop\")"
      ],
      "execution_count": null,
      "outputs": []
    },
    {
      "cell_type": "code",
      "metadata": {
        "id": "IG9J5dcWbu9X"
      },
      "source": [
        "M = model.fit(training_data)"
      ],
      "execution_count": null,
      "outputs": []
    },
    {
      "cell_type": "code",
      "metadata": {
        "id": "XpwFVVHRXxjH"
      },
      "source": [
        ""
      ],
      "execution_count": null,
      "outputs": []
    },
    {
      "cell_type": "code",
      "metadata": {
        "id": "A6RImzKPbwP_"
      },
      "source": [
        "predictions = M.transform(test_data)"
      ],
      "execution_count": null,
      "outputs": []
    },
    {
      "cell_type": "code",
      "metadata": {
        "id": "TXx86-hoZLz-"
      },
      "source": [
        "selected = predictions.select(\"deposit\", \"prediction\")\n",
        "for row in selected.collect():\n",
        "    deposit, prediction = row  # type: ignore\n",
        "    print(\n",
        "       \n",
        "            deposit, prediction   # type: ignore\n",
        "        \n",
        "    )"
      ],
      "execution_count": null,
      "outputs": []
    },
    {
      "cell_type": "code",
      "metadata": {
        "id": "P4b-x5WNlFPn"
      },
      "source": [
        ""
      ],
      "execution_count": null,
      "outputs": []
    },
    {
      "cell_type": "code",
      "metadata": {
        "id": "VhaJRSWZacWH"
      },
      "source": [
        "result = predictions.select(\"features\", \"label\", \"probability\", \"prediction\") \\\n",
        "    .collect()\n",
        "print(len(result))\n",
        "for row in result:\n",
        "    print(\"features=%s, label=%s -> prob=%s, prediction=%s\"\n",
        "          % (row.features, row.label, row.probability, row.prediction))"
      ],
      "execution_count": null,
      "outputs": []
    },
    {
      "cell_type": "code",
      "metadata": {
        "id": "r5j1_qYOl5-t"
      },
      "source": [
        "predictions.toPandas()"
      ],
      "execution_count": null,
      "outputs": []
    },
    {
      "cell_type": "code",
      "metadata": {
        "colab": {
          "base_uri": "https://localhost:8080/"
        },
        "id": "L2f3Yw1ObyMt",
        "outputId": "695443da-3d63-4ba5-bbdf-b02093dafdf1"
      },
      "source": [
        "from pyspark.ml.evaluation import MulticlassClassificationEvaluator\n",
        "\n",
        "multi_evaluator = MulticlassClassificationEvaluator(labelCol = 'label', metricName = 'accuracy')\n",
        "print('Logistic Regression Accuracy:', multi_evaluator.evaluate(predictions))"
      ],
      "execution_count": null,
      "outputs": [
        {
          "output_type": "stream",
          "text": [
            "Logistic Regression Accuracy: 0.7959927140255009\n"
          ],
          "name": "stdout"
        }
      ]
    }
  ]
}